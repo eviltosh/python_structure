{
 "cells": [
  {
   "cell_type": "code",
   "execution_count": null,
   "metadata": {},
   "outputs": [],
   "source": [
    "# slow speed of the python language and why languages like Java, C and C++ can perform between 10x-200x faster."
   ]
  },
  {
   "cell_type": "code",
   "execution_count": null,
   "metadata": {},
   "outputs": [],
   "source": [
    "# solution running parallelism or concurrenctly   ----- python runs only one thread or chain of code one cpu core at a time "
   ]
  },
  {
   "cell_type": "code",
   "execution_count": 1,
   "metadata": {},
   "outputs": [],
   "source": [
    "# multiprocessing — Process-based parallelism\n",
    "# Source code: Lib/multiprocessing/\n",
    "\n",
    "# Introduction\n",
    "# multiprocessing is a package that supports spawning processes using an API similar to \n",
    "# the threading module. The multiprocessing package offers both local and remote concurrency\n",
    "# , effectively side-stepping the Global Interpreter Lock by using subprocesses instead of threads. \n",
    "# Due to this, the multiprocessing module allows the programmer to fully leverage multiple processors on a given machine.\n",
    "# It runs on both Unix and Windows.\n",
    "\n",
    "# The multiprocessing module also introduces APIs which do not have analogs in the threading module.\n",
    "# A prime example of this is the Pool object which offers a convenient means of parallelizing the execution \n",
    "# of a function across multiple input values, distributing the input data across processes (data parallelism).\n",
    "# The following example demonstrates the common practice of defining such functions in a module so that child processes\n",
    "# can successfully import that module. This basic example of data parallelism using Pool"
   ]
  },
  {
   "cell_type": "code",
   "execution_count": null,
   "metadata": {},
   "outputs": [],
   "source": []
  }
 ],
 "metadata": {
  "kernelspec": {
   "display_name": "Python 3",
   "language": "python",
   "name": "python3"
  },
  "language_info": {
   "codemirror_mode": {
    "name": "ipython",
    "version": 3
   },
   "file_extension": ".py",
   "mimetype": "text/x-python",
   "name": "python",
   "nbconvert_exporter": "python",
   "pygments_lexer": "ipython3",
   "version": "3.7.5"
  }
 },
 "nbformat": 4,
 "nbformat_minor": 2
}
