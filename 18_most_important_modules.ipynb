{
 "cells": [
  {
   "cell_type": "code",
   "execution_count": null,
   "metadata": {},
   "outputs": [],
   "source": [
    "# Web:\n",
    "# Requests: https://pypi.org/project/requests/\n",
    "# Django: https://pypi.org/project/Django/                                 web development\n",
    "# Flask: https://pypi.org/project/Flask/                                   web dev easier\n",
    "# Twisted: https://twistedmatrix.com/trac/\n",
    "# BeautifulSoup: https://pypi.org/project/beautifulsoup4/                -----------web scraping ----\n",
    "# Selenium: https://selenium-python.readthedocs.io/\n",
    "\n",
    "# Data science:\n",
    "# Numpy: https://numpy.org/                                 -----------math calculation library--------\n",
    "# Pandas: https://pandas.pydata.org/                     ---------------data structure library------------\n",
    "# Matplotlib: https://matplotlib.org/                   ----------------data visualisation---------------\n",
    "# Nltk: https://www.nltk.org/\n",
    "# Opencv: https://opencv-python-tutroals.readth...\n",
    "\n",
    "# Machine Learning:\n",
    "# Tensorflow: https://www.tensorflow.org/                  -------neural networks----------\n",
    "# Keras: https://keras.io/                                   ---------  nn--------------easier to make models-------\n",
    "# PyTorch: https://pytorch.org/                               machine learning  ai \n",
    "# Sci-kit Learn: https://scikit-learn.org/stable/              algorithms   machine learning \n",
    "\n",
    "# GUI:\n",
    "# Kivy: https://kivy.org/#home\n",
    "# PyQt5: https://pypi.org/project/PyQt5/                           most versitile module \n",
    "# Tkinter: https://wiki.python.org/moin/TkInter                     \n"
   ]
  },
  {
   "cell_type": "code",
   "execution_count": null,
   "metadata": {},
   "outputs": [],
   "source": []
  }
 ],
 "metadata": {
  "kernelspec": {
   "display_name": "Python 3",
   "language": "python",
   "name": "python3"
  },
  "language_info": {
   "codemirror_mode": {
    "name": "ipython",
    "version": 3
   },
   "file_extension": ".py",
   "mimetype": "text/x-python",
   "name": "python",
   "nbconvert_exporter": "python",
   "pygments_lexer": "ipython3",
   "version": "3.7.5"
  }
 },
 "nbformat": 4,
 "nbformat_minor": 2
}
